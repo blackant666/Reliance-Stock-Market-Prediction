{
 "cells": [
  {
   "attachments": {},
   "cell_type": "markdown",
   "metadata": {},
   "source": [
    "## __Business Objective__ \n",
    "### Predict the Reliance Industries Stock Price for the next 30 days.\n",
    "### There are Open, High, Low and Close prices that you need to obtain from the web for each day starting from 2015 to 2022 for Reliance Industries stock.\n",
    "Prepare rules for the all the data sets  \n",
    "1) Split the last year into a test set- to build a model to predict stock price.\n",
    "2) Find short term, & long term trends.\n",
    "3) Understand how it is impacted from external factors or any big external events.\n",
    "4) Forecast for next 30 days."
   ]
  },
  {
   "attachments": {},
   "cell_type": "markdown",
   "metadata": {},
   "source": [
    "### Data Collection\n",
    "- We collected data from Business Standard website\n",
    "- https://www.business-standard.com/company/reliance-industr-476/price-history/1"
   ]
  },
  {
   "cell_type": "markdown",
   "metadata": {},
   "source": [
    "## EDA"
   ]
  },
  {
   "cell_type": "code",
   "execution_count": 1,
   "metadata": {},
   "outputs": [],
   "source": [
    "#importing libraries\n",
    "import pandas as pd\n",
    "import matplotlib.pyplot as plt\n",
    "import seaborn as sns\n",
    "\n",
    "import warnings\n",
    "warnings.filterwarnings('ignore')"
   ]
  },
  {
   "cell_type": "code",
   "execution_count": 2,
   "metadata": {},
   "outputs": [],
   "source": [
    "#reading and storing the data into a variable\n",
    "df = pd.read_csv('data/Reliance_Stock_Prices.csv')"
   ]
  },
  {
   "cell_type": "code",
   "execution_count": 3,
   "metadata": {},
   "outputs": [
    {
     "data": {
      "text/html": [
       "<div>\n",
       "<style scoped>\n",
       "    .dataframe tbody tr th:only-of-type {\n",
       "        vertical-align: middle;\n",
       "    }\n",
       "\n",
       "    .dataframe tbody tr th {\n",
       "        vertical-align: top;\n",
       "    }\n",
       "\n",
       "    .dataframe thead th {\n",
       "        text-align: right;\n",
       "    }\n",
       "</style>\n",
       "<table border=\"1\" class=\"dataframe\">\n",
       "  <thead>\n",
       "    <tr style=\"text-align: right;\">\n",
       "      <th></th>\n",
       "      <th>Date</th>\n",
       "      <th>Open</th>\n",
       "      <th>Close</th>\n",
       "      <th>Low</th>\n",
       "      <th>High</th>\n",
       "    </tr>\n",
       "  </thead>\n",
       "  <tbody>\n",
       "    <tr>\n",
       "      <th>0</th>\n",
       "      <td>01/01/2015</td>\n",
       "      <td>438.57</td>\n",
       "      <td>439.84</td>\n",
       "      <td>437.93</td>\n",
       "      <td>441.87</td>\n",
       "    </tr>\n",
       "    <tr>\n",
       "      <th>1</th>\n",
       "      <td>02/01/2015</td>\n",
       "      <td>440.21</td>\n",
       "      <td>438.62</td>\n",
       "      <td>437.83</td>\n",
       "      <td>443.78</td>\n",
       "    </tr>\n",
       "    <tr>\n",
       "      <th>2</th>\n",
       "      <td>05/01/2015</td>\n",
       "      <td>438.60</td>\n",
       "      <td>434.41</td>\n",
       "      <td>433.52</td>\n",
       "      <td>441.25</td>\n",
       "    </tr>\n",
       "    <tr>\n",
       "      <th>3</th>\n",
       "      <td>06/01/2015</td>\n",
       "      <td>431.89</td>\n",
       "      <td>414.11</td>\n",
       "      <td>412.13</td>\n",
       "      <td>431.89</td>\n",
       "    </tr>\n",
       "    <tr>\n",
       "      <th>4</th>\n",
       "      <td>07/01/2015</td>\n",
       "      <td>415.40</td>\n",
       "      <td>423.67</td>\n",
       "      <td>414.65</td>\n",
       "      <td>425.35</td>\n",
       "    </tr>\n",
       "    <tr>\n",
       "      <th>5</th>\n",
       "      <td>08/01/2015</td>\n",
       "      <td>425.87</td>\n",
       "      <td>417.45</td>\n",
       "      <td>416.88</td>\n",
       "      <td>427.41</td>\n",
       "    </tr>\n",
       "    <tr>\n",
       "      <th>6</th>\n",
       "      <td>09/01/2015</td>\n",
       "      <td>419.09</td>\n",
       "      <td>426.17</td>\n",
       "      <td>418.57</td>\n",
       "      <td>427.18</td>\n",
       "    </tr>\n",
       "    <tr>\n",
       "      <th>7</th>\n",
       "      <td>12/01/2015</td>\n",
       "      <td>427.18</td>\n",
       "      <td>421.26</td>\n",
       "      <td>417.20</td>\n",
       "      <td>427.43</td>\n",
       "    </tr>\n",
       "    <tr>\n",
       "      <th>8</th>\n",
       "      <td>13/01/2015</td>\n",
       "      <td>422.35</td>\n",
       "      <td>417.55</td>\n",
       "      <td>416.36</td>\n",
       "      <td>423.20</td>\n",
       "    </tr>\n",
       "    <tr>\n",
       "      <th>9</th>\n",
       "      <td>14/01/2015</td>\n",
       "      <td>417.57</td>\n",
       "      <td>413.59</td>\n",
       "      <td>411.63</td>\n",
       "      <td>419.46</td>\n",
       "    </tr>\n",
       "  </tbody>\n",
       "</table>\n",
       "</div>"
      ],
      "text/plain": [
       "         Date    Open   Close     Low    High\n",
       "0  01/01/2015  438.57  439.84  437.93  441.87\n",
       "1  02/01/2015  440.21  438.62  437.83  443.78\n",
       "2  05/01/2015  438.60  434.41  433.52  441.25\n",
       "3  06/01/2015  431.89  414.11  412.13  431.89\n",
       "4  07/01/2015  415.40  423.67  414.65  425.35\n",
       "5  08/01/2015  425.87  417.45  416.88  427.41\n",
       "6  09/01/2015  419.09  426.17  418.57  427.18\n",
       "7  12/01/2015  427.18  421.26  417.20  427.43\n",
       "8  13/01/2015  422.35  417.55  416.36  423.20\n",
       "9  14/01/2015  417.57  413.59  411.63  419.46"
      ]
     },
     "execution_count": 3,
     "metadata": {},
     "output_type": "execute_result"
    }
   ],
   "source": [
    "df.head(10)"
   ]
  },
  {
   "cell_type": "markdown",
   "metadata": {},
   "source": [
    "#### Copy data into another variable"
   ]
  },
  {
   "cell_type": "code",
   "execution_count": 4,
   "metadata": {},
   "outputs": [],
   "source": [
    "df2 = df.copy()"
   ]
  },
  {
   "cell_type": "code",
   "execution_count": 5,
   "metadata": {},
   "outputs": [
    {
     "data": {
      "text/html": [
       "<div>\n",
       "<style scoped>\n",
       "    .dataframe tbody tr th:only-of-type {\n",
       "        vertical-align: middle;\n",
       "    }\n",
       "\n",
       "    .dataframe tbody tr th {\n",
       "        vertical-align: top;\n",
       "    }\n",
       "\n",
       "    .dataframe thead th {\n",
       "        text-align: right;\n",
       "    }\n",
       "</style>\n",
       "<table border=\"1\" class=\"dataframe\">\n",
       "  <thead>\n",
       "    <tr style=\"text-align: right;\">\n",
       "      <th></th>\n",
       "      <th>Date</th>\n",
       "      <th>Open</th>\n",
       "      <th>Close</th>\n",
       "      <th>Low</th>\n",
       "      <th>High</th>\n",
       "    </tr>\n",
       "  </thead>\n",
       "  <tbody>\n",
       "    <tr>\n",
       "      <th>0</th>\n",
       "      <td>01/01/2015</td>\n",
       "      <td>438.57</td>\n",
       "      <td>439.84</td>\n",
       "      <td>437.93</td>\n",
       "      <td>441.87</td>\n",
       "    </tr>\n",
       "    <tr>\n",
       "      <th>1</th>\n",
       "      <td>02/01/2015</td>\n",
       "      <td>440.21</td>\n",
       "      <td>438.62</td>\n",
       "      <td>437.83</td>\n",
       "      <td>443.78</td>\n",
       "    </tr>\n",
       "    <tr>\n",
       "      <th>2</th>\n",
       "      <td>05/01/2015</td>\n",
       "      <td>438.60</td>\n",
       "      <td>434.41</td>\n",
       "      <td>433.52</td>\n",
       "      <td>441.25</td>\n",
       "    </tr>\n",
       "    <tr>\n",
       "      <th>3</th>\n",
       "      <td>06/01/2015</td>\n",
       "      <td>431.89</td>\n",
       "      <td>414.11</td>\n",
       "      <td>412.13</td>\n",
       "      <td>431.89</td>\n",
       "    </tr>\n",
       "    <tr>\n",
       "      <th>4</th>\n",
       "      <td>07/01/2015</td>\n",
       "      <td>415.40</td>\n",
       "      <td>423.67</td>\n",
       "      <td>414.65</td>\n",
       "      <td>425.35</td>\n",
       "    </tr>\n",
       "  </tbody>\n",
       "</table>\n",
       "</div>"
      ],
      "text/plain": [
       "         Date    Open   Close     Low    High\n",
       "0  01/01/2015  438.57  439.84  437.93  441.87\n",
       "1  02/01/2015  440.21  438.62  437.83  443.78\n",
       "2  05/01/2015  438.60  434.41  433.52  441.25\n",
       "3  06/01/2015  431.89  414.11  412.13  431.89\n",
       "4  07/01/2015  415.40  423.67  414.65  425.35"
      ]
     },
     "execution_count": 5,
     "metadata": {},
     "output_type": "execute_result"
    }
   ],
   "source": [
    "df2.head()"
   ]
  },
  {
   "attachments": {},
   "cell_type": "markdown",
   "metadata": {},
   "source": [
    "### Data Cleaning"
   ]
  },
  {
   "cell_type": "code",
   "execution_count": 6,
   "metadata": {},
   "outputs": [
    {
     "data": {
      "text/plain": [
       "Date     0\n",
       "Open     0\n",
       "Close    0\n",
       "Low      0\n",
       "High     0\n",
       "dtype: int64"
      ]
     },
     "execution_count": 6,
     "metadata": {},
     "output_type": "execute_result"
    }
   ],
   "source": [
    "#checking the null values in our data\n",
    "df.isnull().sum()"
   ]
  },
  {
   "cell_type": "markdown",
   "metadata": {},
   "source": [
    "### Descriptive Statistics"
   ]
  },
  {
   "cell_type": "code",
   "execution_count": 7,
   "metadata": {},
   "outputs": [
    {
     "data": {
      "text/html": [
       "<div>\n",
       "<style scoped>\n",
       "    .dataframe tbody tr th:only-of-type {\n",
       "        vertical-align: middle;\n",
       "    }\n",
       "\n",
       "    .dataframe tbody tr th {\n",
       "        vertical-align: top;\n",
       "    }\n",
       "\n",
       "    .dataframe thead th {\n",
       "        text-align: right;\n",
       "    }\n",
       "</style>\n",
       "<table border=\"1\" class=\"dataframe\">\n",
       "  <thead>\n",
       "    <tr style=\"text-align: right;\">\n",
       "      <th></th>\n",
       "      <th>Open</th>\n",
       "      <th>Close</th>\n",
       "      <th>Low</th>\n",
       "      <th>High</th>\n",
       "    </tr>\n",
       "  </thead>\n",
       "  <tbody>\n",
       "    <tr>\n",
       "      <th>count</th>\n",
       "      <td>1978.000000</td>\n",
       "      <td>1978.000000</td>\n",
       "      <td>1978.000000</td>\n",
       "      <td>1978.000000</td>\n",
       "    </tr>\n",
       "    <tr>\n",
       "      <th>mean</th>\n",
       "      <td>1312.124272</td>\n",
       "      <td>1310.663716</td>\n",
       "      <td>1296.234307</td>\n",
       "      <td>1326.662401</td>\n",
       "    </tr>\n",
       "    <tr>\n",
       "      <th>std</th>\n",
       "      <td>750.331273</td>\n",
       "      <td>749.428528</td>\n",
       "      <td>741.214118</td>\n",
       "      <td>758.389274</td>\n",
       "    </tr>\n",
       "    <tr>\n",
       "      <th>min</th>\n",
       "      <td>404.150000</td>\n",
       "      <td>401.350000</td>\n",
       "      <td>394.620000</td>\n",
       "      <td>405.140000</td>\n",
       "    </tr>\n",
       "    <tr>\n",
       "      <th>25%</th>\n",
       "      <td>529.282500</td>\n",
       "      <td>530.770000</td>\n",
       "      <td>524.602500</td>\n",
       "      <td>535.955000</td>\n",
       "    </tr>\n",
       "    <tr>\n",
       "      <th>50%</th>\n",
       "      <td>1167.855000</td>\n",
       "      <td>1168.500000</td>\n",
       "      <td>1151.140000</td>\n",
       "      <td>1185.710000</td>\n",
       "    </tr>\n",
       "    <tr>\n",
       "      <th>75%</th>\n",
       "      <td>2031.000000</td>\n",
       "      <td>2028.112500</td>\n",
       "      <td>2000.850000</td>\n",
       "      <td>2060.112500</td>\n",
       "    </tr>\n",
       "    <tr>\n",
       "      <th>max</th>\n",
       "      <td>2855.000000</td>\n",
       "      <td>2819.200000</td>\n",
       "      <td>2786.300000</td>\n",
       "      <td>2855.000000</td>\n",
       "    </tr>\n",
       "  </tbody>\n",
       "</table>\n",
       "</div>"
      ],
      "text/plain": [
       "              Open        Close          Low         High\n",
       "count  1978.000000  1978.000000  1978.000000  1978.000000\n",
       "mean   1312.124272  1310.663716  1296.234307  1326.662401\n",
       "std     750.331273   749.428528   741.214118   758.389274\n",
       "min     404.150000   401.350000   394.620000   405.140000\n",
       "25%     529.282500   530.770000   524.602500   535.955000\n",
       "50%    1167.855000  1168.500000  1151.140000  1185.710000\n",
       "75%    2031.000000  2028.112500  2000.850000  2060.112500\n",
       "max    2855.000000  2819.200000  2786.300000  2855.000000"
      ]
     },
     "execution_count": 7,
     "metadata": {},
     "output_type": "execute_result"
    }
   ],
   "source": [
    "#describe about our data\n",
    "df.describe()"
   ]
  },
  {
   "cell_type": "code",
   "execution_count": 8,
   "metadata": {},
   "outputs": [
    {
     "data": {
      "text/plain": [
       "(1978, 5)"
      ]
     },
     "execution_count": 8,
     "metadata": {},
     "output_type": "execute_result"
    }
   ],
   "source": [
    "df.shape"
   ]
  },
  {
   "cell_type": "code",
   "execution_count": 9,
   "metadata": {},
   "outputs": [
    {
     "name": "stdout",
     "output_type": "stream",
     "text": [
      "<class 'pandas.core.frame.DataFrame'>\n",
      "RangeIndex: 1978 entries, 0 to 1977\n",
      "Data columns (total 5 columns):\n",
      " #   Column  Non-Null Count  Dtype  \n",
      "---  ------  --------------  -----  \n",
      " 0   Date    1978 non-null   object \n",
      " 1   Open    1978 non-null   float64\n",
      " 2   Close   1978 non-null   float64\n",
      " 3   Low     1978 non-null   float64\n",
      " 4   High    1978 non-null   float64\n",
      "dtypes: float64(4), object(1)\n",
      "memory usage: 77.4+ KB\n"
     ]
    }
   ],
   "source": [
    "#information about our data\n",
    "df.info()"
   ]
  },
  {
   "cell_type": "code",
   "execution_count": 10,
   "metadata": {},
   "outputs": [],
   "source": [
    "#converting the Date cloumn into Datetime format\n",
    "df['Date'] = pd.to_datetime(df['Date'],format='%d/%m/%Y')"
   ]
  },
  {
   "cell_type": "code",
   "execution_count": 11,
   "metadata": {},
   "outputs": [
    {
     "name": "stdout",
     "output_type": "stream",
     "text": [
      "<class 'pandas.core.frame.DataFrame'>\n",
      "RangeIndex: 1978 entries, 0 to 1977\n",
      "Data columns (total 5 columns):\n",
      " #   Column  Non-Null Count  Dtype         \n",
      "---  ------  --------------  -----         \n",
      " 0   Date    1978 non-null   datetime64[ns]\n",
      " 1   Open    1978 non-null   float64       \n",
      " 2   Close   1978 non-null   float64       \n",
      " 3   Low     1978 non-null   float64       \n",
      " 4   High    1978 non-null   float64       \n",
      "dtypes: datetime64[ns](1), float64(4)\n",
      "memory usage: 77.4 KB\n"
     ]
    }
   ],
   "source": [
    "df.info()"
   ]
  },
  {
   "cell_type": "code",
   "execution_count": 12,
   "metadata": {},
   "outputs": [
    {
     "data": {
      "text/html": [
       "<div>\n",
       "<style scoped>\n",
       "    .dataframe tbody tr th:only-of-type {\n",
       "        vertical-align: middle;\n",
       "    }\n",
       "\n",
       "    .dataframe tbody tr th {\n",
       "        vertical-align: top;\n",
       "    }\n",
       "\n",
       "    .dataframe thead th {\n",
       "        text-align: right;\n",
       "    }\n",
       "</style>\n",
       "<table border=\"1\" class=\"dataframe\">\n",
       "  <thead>\n",
       "    <tr style=\"text-align: right;\">\n",
       "      <th></th>\n",
       "      <th>Date</th>\n",
       "      <th>Open</th>\n",
       "      <th>Close</th>\n",
       "      <th>Low</th>\n",
       "      <th>High</th>\n",
       "    </tr>\n",
       "  </thead>\n",
       "  <tbody>\n",
       "    <tr>\n",
       "      <th>0</th>\n",
       "      <td>2015-01-01</td>\n",
       "      <td>438.57</td>\n",
       "      <td>439.84</td>\n",
       "      <td>437.93</td>\n",
       "      <td>441.87</td>\n",
       "    </tr>\n",
       "    <tr>\n",
       "      <th>1</th>\n",
       "      <td>2015-01-02</td>\n",
       "      <td>440.21</td>\n",
       "      <td>438.62</td>\n",
       "      <td>437.83</td>\n",
       "      <td>443.78</td>\n",
       "    </tr>\n",
       "    <tr>\n",
       "      <th>2</th>\n",
       "      <td>2015-01-05</td>\n",
       "      <td>438.60</td>\n",
       "      <td>434.41</td>\n",
       "      <td>433.52</td>\n",
       "      <td>441.25</td>\n",
       "    </tr>\n",
       "    <tr>\n",
       "      <th>3</th>\n",
       "      <td>2015-01-06</td>\n",
       "      <td>431.89</td>\n",
       "      <td>414.11</td>\n",
       "      <td>412.13</td>\n",
       "      <td>431.89</td>\n",
       "    </tr>\n",
       "    <tr>\n",
       "      <th>4</th>\n",
       "      <td>2015-01-07</td>\n",
       "      <td>415.40</td>\n",
       "      <td>423.67</td>\n",
       "      <td>414.65</td>\n",
       "      <td>425.35</td>\n",
       "    </tr>\n",
       "    <tr>\n",
       "      <th>5</th>\n",
       "      <td>2015-01-08</td>\n",
       "      <td>425.87</td>\n",
       "      <td>417.45</td>\n",
       "      <td>416.88</td>\n",
       "      <td>427.41</td>\n",
       "    </tr>\n",
       "    <tr>\n",
       "      <th>6</th>\n",
       "      <td>2015-01-09</td>\n",
       "      <td>419.09</td>\n",
       "      <td>426.17</td>\n",
       "      <td>418.57</td>\n",
       "      <td>427.18</td>\n",
       "    </tr>\n",
       "    <tr>\n",
       "      <th>7</th>\n",
       "      <td>2015-01-12</td>\n",
       "      <td>427.18</td>\n",
       "      <td>421.26</td>\n",
       "      <td>417.20</td>\n",
       "      <td>427.43</td>\n",
       "    </tr>\n",
       "    <tr>\n",
       "      <th>8</th>\n",
       "      <td>2015-01-13</td>\n",
       "      <td>422.35</td>\n",
       "      <td>417.55</td>\n",
       "      <td>416.36</td>\n",
       "      <td>423.20</td>\n",
       "    </tr>\n",
       "    <tr>\n",
       "      <th>9</th>\n",
       "      <td>2015-01-14</td>\n",
       "      <td>417.57</td>\n",
       "      <td>413.59</td>\n",
       "      <td>411.63</td>\n",
       "      <td>419.46</td>\n",
       "    </tr>\n",
       "  </tbody>\n",
       "</table>\n",
       "</div>"
      ],
      "text/plain": [
       "        Date    Open   Close     Low    High\n",
       "0 2015-01-01  438.57  439.84  437.93  441.87\n",
       "1 2015-01-02  440.21  438.62  437.83  443.78\n",
       "2 2015-01-05  438.60  434.41  433.52  441.25\n",
       "3 2015-01-06  431.89  414.11  412.13  431.89\n",
       "4 2015-01-07  415.40  423.67  414.65  425.35\n",
       "5 2015-01-08  425.87  417.45  416.88  427.41\n",
       "6 2015-01-09  419.09  426.17  418.57  427.18\n",
       "7 2015-01-12  427.18  421.26  417.20  427.43\n",
       "8 2015-01-13  422.35  417.55  416.36  423.20\n",
       "9 2015-01-14  417.57  413.59  411.63  419.46"
      ]
     },
     "execution_count": 12,
     "metadata": {},
     "output_type": "execute_result"
    }
   ],
   "source": [
    "df.head(10)"
   ]
  },
  {
   "cell_type": "code",
   "execution_count": 13,
   "metadata": {},
   "outputs": [
    {
     "data": {
      "text/html": [
       "<div>\n",
       "<style scoped>\n",
       "    .dataframe tbody tr th:only-of-type {\n",
       "        vertical-align: middle;\n",
       "    }\n",
       "\n",
       "    .dataframe tbody tr th {\n",
       "        vertical-align: top;\n",
       "    }\n",
       "\n",
       "    .dataframe thead th {\n",
       "        text-align: right;\n",
       "    }\n",
       "</style>\n",
       "<table border=\"1\" class=\"dataframe\">\n",
       "  <thead>\n",
       "    <tr style=\"text-align: right;\">\n",
       "      <th></th>\n",
       "      <th>Open</th>\n",
       "      <th>Close</th>\n",
       "      <th>Low</th>\n",
       "      <th>High</th>\n",
       "    </tr>\n",
       "    <tr>\n",
       "      <th>Date</th>\n",
       "      <th></th>\n",
       "      <th></th>\n",
       "      <th></th>\n",
       "      <th></th>\n",
       "    </tr>\n",
       "  </thead>\n",
       "  <tbody>\n",
       "    <tr>\n",
       "      <th>2015-01-01</th>\n",
       "      <td>438.57</td>\n",
       "      <td>439.84</td>\n",
       "      <td>437.93</td>\n",
       "      <td>441.87</td>\n",
       "    </tr>\n",
       "    <tr>\n",
       "      <th>2015-01-02</th>\n",
       "      <td>440.21</td>\n",
       "      <td>438.62</td>\n",
       "      <td>437.83</td>\n",
       "      <td>443.78</td>\n",
       "    </tr>\n",
       "    <tr>\n",
       "      <th>2015-01-05</th>\n",
       "      <td>438.60</td>\n",
       "      <td>434.41</td>\n",
       "      <td>433.52</td>\n",
       "      <td>441.25</td>\n",
       "    </tr>\n",
       "    <tr>\n",
       "      <th>2015-01-06</th>\n",
       "      <td>431.89</td>\n",
       "      <td>414.11</td>\n",
       "      <td>412.13</td>\n",
       "      <td>431.89</td>\n",
       "    </tr>\n",
       "    <tr>\n",
       "      <th>2015-01-07</th>\n",
       "      <td>415.40</td>\n",
       "      <td>423.67</td>\n",
       "      <td>414.65</td>\n",
       "      <td>425.35</td>\n",
       "    </tr>\n",
       "    <tr>\n",
       "      <th>...</th>\n",
       "      <td>...</td>\n",
       "      <td>...</td>\n",
       "      <td>...</td>\n",
       "      <td>...</td>\n",
       "    </tr>\n",
       "    <tr>\n",
       "      <th>2022-12-26</th>\n",
       "      <td>2513.70</td>\n",
       "      <td>2524.50</td>\n",
       "      <td>2493.95</td>\n",
       "      <td>2542.05</td>\n",
       "    </tr>\n",
       "    <tr>\n",
       "      <th>2022-12-27</th>\n",
       "      <td>2529.00</td>\n",
       "      <td>2545.05</td>\n",
       "      <td>2514.35</td>\n",
       "      <td>2548.80</td>\n",
       "    </tr>\n",
       "    <tr>\n",
       "      <th>2022-12-28</th>\n",
       "      <td>2535.90</td>\n",
       "      <td>2544.45</td>\n",
       "      <td>2521.25</td>\n",
       "      <td>2549.90</td>\n",
       "    </tr>\n",
       "    <tr>\n",
       "      <th>2022-12-29</th>\n",
       "      <td>2532.05</td>\n",
       "      <td>2542.55</td>\n",
       "      <td>2526.50</td>\n",
       "      <td>2549.00</td>\n",
       "    </tr>\n",
       "    <tr>\n",
       "      <th>2022-12-30</th>\n",
       "      <td>2547.00</td>\n",
       "      <td>2548.20</td>\n",
       "      <td>2542.55</td>\n",
       "      <td>2576.90</td>\n",
       "    </tr>\n",
       "  </tbody>\n",
       "</table>\n",
       "<p>1978 rows × 4 columns</p>\n",
       "</div>"
      ],
      "text/plain": [
       "               Open    Close      Low     High\n",
       "Date                                          \n",
       "2015-01-01   438.57   439.84   437.93   441.87\n",
       "2015-01-02   440.21   438.62   437.83   443.78\n",
       "2015-01-05   438.60   434.41   433.52   441.25\n",
       "2015-01-06   431.89   414.11   412.13   431.89\n",
       "2015-01-07   415.40   423.67   414.65   425.35\n",
       "...             ...      ...      ...      ...\n",
       "2022-12-26  2513.70  2524.50  2493.95  2542.05\n",
       "2022-12-27  2529.00  2545.05  2514.35  2548.80\n",
       "2022-12-28  2535.90  2544.45  2521.25  2549.90\n",
       "2022-12-29  2532.05  2542.55  2526.50  2549.00\n",
       "2022-12-30  2547.00  2548.20  2542.55  2576.90\n",
       "\n",
       "[1978 rows x 4 columns]"
      ]
     },
     "execution_count": 13,
     "metadata": {},
     "output_type": "execute_result"
    }
   ],
   "source": [
    "#set Date columns as index\n",
    "df=df.set_index('Date')\n",
    "df"
   ]
  },
  {
   "attachments": {},
   "cell_type": "markdown",
   "metadata": {},
   "source": [
    "### Data Visualization"
   ]
  },
  {
   "cell_type": "code",
   "execution_count": 14,
   "metadata": {},
   "outputs": [
    {
     "data": {
      "image/png": "[encoded data removed]",
      "text/plain": [
       "<Figure size 1500x500 with 2 Axes>"
      ]
     },
     "metadata": {},
     "output_type": "display_data"
    }
   ],
   "source": [
    "#ploting the graphs of close and open price\n",
    "fg, ax =plt.subplots(1,2,figsize=(15,5))\n",
    "ax[0].plot(df['Open'],label='Open',color='green')\n",
    "ax[0].set_xlabel('Date',size=15)\n",
    "ax[0].set_ylabel('Price',size=15)\n",
    "ax[0].legend()\n",
    "ax[1].plot(df['Close'],label='Close',color='red')\n",
    "ax[1].set_xlabel('Date',size=15)\n",
    "ax[1].set_ylabel('Price',size=15)\n",
    "ax[1].legend()\n",
    "fg.show()"
   ]
  },
  {
   "cell_type": "code",
   "execution_count": 15,
   "metadata": {},
   "outputs": [
    {
     "data": {
      "image/png": "[encoded data removed]",
      "text/plain": [
       "<Figure size 1500x500 with 2 Axes>"
      ]
     },
     "metadata": {},
     "output_type": "display_data"
    }
   ],
   "source": [
    "#ploting histogram of the closing price \n",
    "fg1, ax1 =plt.subplots(1,2,figsize=(15,5))\n",
    "ax1[0].hist(df['Open'],label='Open',color='green',bins=50)\n",
    "ax1[0].set_xlabel('Open Price',size=15)\n",
    "ax1[0].set_ylabel('Frequency',size=15)\n",
    "ax1[0].legend()\n",
    "ax1[1].hist(df['Close'],label='Close',color='red',bins=50)\n",
    "ax1[1].set_xlabel('Close Price',size=15)\n",
    "ax1[1].set_ylabel('Frequency',size=15)\n",
    "ax1[1].legend()\n",
    "fg1.show()"
   ]
  },
  {
   "cell_type": "code",
   "execution_count": 16,
   "metadata": {},
   "outputs": [
    {
     "data": {
      "image/png": "[encoded data removed]",
      "text/plain": [
       "<Figure size 640x480 with 1 Axes>"
      ]
     },
     "metadata": {},
     "output_type": "display_data"
    }
   ],
   "source": [
    "#ploting the boxplot for close and open price\n",
    "ax3 = df[['Close', 'Open']].boxplot()\n",
    "plt.show()"
   ]
  },
  {
   "attachments": {},
   "cell_type": "markdown",
   "metadata": {},
   "source": [
    "- by this box plot we can say that there is not outliers are present in the data set"
   ]
  },
  {
   "attachments": {},
   "cell_type": "markdown",
   "metadata": {},
   "source": [
    "### Correlation Analysis"
   ]
  },
  {
   "cell_type": "code",
   "execution_count": 17,
   "metadata": {},
   "outputs": [
    {
     "data": {
      "text/html": [
       "<div>\n",
       "<style scoped>\n",
       "    .dataframe tbody tr th:only-of-type {\n",
       "        vertical-align: middle;\n",
       "    }\n",
       "\n",
       "    .dataframe tbody tr th {\n",
       "        vertical-align: top;\n",
       "    }\n",
       "\n",
       "    .dataframe thead th {\n",
       "        text-align: right;\n",
       "    }\n",
       "</style>\n",
       "<table border=\"1\" class=\"dataframe\">\n",
       "  <thead>\n",
       "    <tr style=\"text-align: right;\">\n",
       "      <th></th>\n",
       "      <th>Open</th>\n",
       "      <th>Close</th>\n",
       "      <th>Low</th>\n",
       "      <th>High</th>\n",
       "    </tr>\n",
       "  </thead>\n",
       "  <tbody>\n",
       "    <tr>\n",
       "      <th>Open</th>\n",
       "      <td>1.000000</td>\n",
       "      <td>0.999442</td>\n",
       "      <td>0.999720</td>\n",
       "      <td>0.999741</td>\n",
       "    </tr>\n",
       "    <tr>\n",
       "      <th>Close</th>\n",
       "      <td>0.999442</td>\n",
       "      <td>1.000000</td>\n",
       "      <td>0.999773</td>\n",
       "      <td>0.999792</td>\n",
       "    </tr>\n",
       "    <tr>\n",
       "      <th>Low</th>\n",
       "      <td>0.999720</td>\n",
       "      <td>0.999773</td>\n",
       "      <td>1.000000</td>\n",
       "      <td>0.999674</td>\n",
       "    </tr>\n",
       "    <tr>\n",
       "      <th>High</th>\n",
       "      <td>0.999741</td>\n",
       "      <td>0.999792</td>\n",
       "      <td>0.999674</td>\n",
       "      <td>1.000000</td>\n",
       "    </tr>\n",
       "  </tbody>\n",
       "</table>\n",
       "</div>"
      ],
      "text/plain": [
       "           Open     Close       Low      High\n",
       "Open   1.000000  0.999442  0.999720  0.999741\n",
       "Close  0.999442  1.000000  0.999773  0.999792\n",
       "Low    0.999720  0.999773  1.000000  0.999674\n",
       "High   0.999741  0.999792  0.999674  1.000000"
      ]
     },
     "execution_count": 17,
     "metadata": {},
     "output_type": "execute_result"
    }
   ],
   "source": [
    "correlation = df.corr()\n",
    "correlation"
   ]
  },
  {
   "cell_type": "code",
   "execution_count": 18,
   "metadata": {},
   "outputs": [
    {
     "data": {
      "image/png": "[encoded data removed]",
      "text/plain": [
       "<Figure size 640x480 with 2 Axes>"
      ]
     },
     "metadata": {},
     "output_type": "display_data"
    }
   ],
   "source": [
    "sns.heatmap(correlation, annot=True)\n",
    "plt.show()"
   ]
  },
  {
   "cell_type": "markdown",
   "metadata": {},
   "source": [
    "### Volatility Analysis"
   ]
  },
  {
   "cell_type": "code",
   "execution_count": 21,
   "metadata": {},
   "outputs": [
    {
     "data": {
      "image/png": "[encoded data removed]",
      "text/plain": [
       "<Figure size 640x480 with 1 Axes>"
      ]
     },
     "metadata": {},
     "output_type": "display_data"
    }
   ],
   "source": [
    "df['Returns'] = df['Close'].pct_change()\n",
    "volatility = df['Returns'].std()\n",
    "plt.hist(df['Returns'], bins=50)\n",
    "plt.show()"
   ]
  },
  {
   "attachments": {},
   "cell_type": "markdown",
   "metadata": {},
   "source": [
    "- By this graph we can say that our most of the data lies in the middle.\n",
    "- So we can say that our data create a normal distribution"
   ]
  },
  {
   "cell_type": "code",
   "execution_count": null,
   "metadata": {},
   "outputs": [],
   "source": []
  }
 ],
 "metadata": {
  "kernelspec": {
   "display_name": "base",
   "language": "python",
   "name": "python3"
  },
  "language_info": {
   "codemirror_mode": {
    "name": "ipython",
    "version": 3
   },
   "file_extension": ".py",
   "mimetype": "text/x-python",
   "name": "python",
   "nbconvert_exporter": "python",
   "pygments_lexer": "ipython3",
   "version": "3.9.13"
  },
  "orig_nbformat": 4,
  "vscode": {
   "interpreter": {
    "hash": "ad2bdc8ecc057115af97d19610ffacc2b4e99fae6737bb82f5d7fb13d2f2c186"
   }
  }
 },
 "nbformat": 4,
 "nbformat_minor": 2
}
