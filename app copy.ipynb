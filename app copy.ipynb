{
 "cells": [
  {
   "cell_type": "code",
   "execution_count": 13,
   "metadata": {},
   "outputs": [
    {
     "name": "stdout",
     "output_type": "stream",
     "text": [
      "[*********************100%***********************]  1 of 1 completed\n"
     ]
    }
   ],
   "source": [
    "import yfinance as yf\n",
    "import pandas as pd\n",
    "\n",
    "\n",
    "df = yf.download('RELIANCE.NS', start='2016-01-01')\n"
   ]
  },
  {
   "cell_type": "code",
   "execution_count": 14,
   "metadata": {},
   "outputs": [
    {
     "data": {
      "text/html": [
       "<div>\n",
       "<style scoped>\n",
       "    .dataframe tbody tr th:only-of-type {\n",
       "        vertical-align: middle;\n",
       "    }\n",
       "\n",
       "    .dataframe tbody tr th {\n",
       "        vertical-align: top;\n",
       "    }\n",
       "\n",
       "    .dataframe thead th {\n",
       "        text-align: right;\n",
       "    }\n",
       "</style>\n",
       "<table border=\"1\" class=\"dataframe\">\n",
       "  <thead>\n",
       "    <tr style=\"text-align: right;\">\n",
       "      <th></th>\n",
       "      <th>Open</th>\n",
       "      <th>High</th>\n",
       "      <th>Low</th>\n",
       "      <th>Close</th>\n",
       "      <th>Adj Close</th>\n",
       "      <th>Volume</th>\n",
       "    </tr>\n",
       "    <tr>\n",
       "      <th>Date</th>\n",
       "      <th></th>\n",
       "      <th></th>\n",
       "      <th></th>\n",
       "      <th></th>\n",
       "      <th></th>\n",
       "      <th></th>\n",
       "    </tr>\n",
       "  </thead>\n",
       "  <tbody>\n",
       "    <tr>\n",
       "      <th>2023-02-13</th>\n",
       "      <td>2340.199951</td>\n",
       "      <td>2350.000000</td>\n",
       "      <td>2313.550049</td>\n",
       "      <td>2323.350098</td>\n",
       "      <td>2323.350098</td>\n",
       "      <td>4777674</td>\n",
       "    </tr>\n",
       "    <tr>\n",
       "      <th>2023-02-14</th>\n",
       "      <td>2329.949951</td>\n",
       "      <td>2381.899902</td>\n",
       "      <td>2323.649902</td>\n",
       "      <td>2378.100098</td>\n",
       "      <td>2378.100098</td>\n",
       "      <td>6609564</td>\n",
       "    </tr>\n",
       "    <tr>\n",
       "      <th>2023-02-15</th>\n",
       "      <td>2376.000000</td>\n",
       "      <td>2437.199951</td>\n",
       "      <td>2373.000000</td>\n",
       "      <td>2431.949951</td>\n",
       "      <td>2431.949951</td>\n",
       "      <td>15461902</td>\n",
       "    </tr>\n",
       "    <tr>\n",
       "      <th>2023-02-16</th>\n",
       "      <td>2449.449951</td>\n",
       "      <td>2463.800049</td>\n",
       "      <td>2425.050049</td>\n",
       "      <td>2430.050049</td>\n",
       "      <td>2430.050049</td>\n",
       "      <td>7967558</td>\n",
       "    </tr>\n",
       "    <tr>\n",
       "      <th>2023-02-17</th>\n",
       "      <td>2420.000000</td>\n",
       "      <td>2447.500000</td>\n",
       "      <td>2410.600098</td>\n",
       "      <td>2440.199951</td>\n",
       "      <td>2440.199951</td>\n",
       "      <td>5450092</td>\n",
       "    </tr>\n",
       "    <tr>\n",
       "      <th>2023-02-20</th>\n",
       "      <td>2445.000000</td>\n",
       "      <td>2449.750000</td>\n",
       "      <td>2410.100098</td>\n",
       "      <td>2414.399902</td>\n",
       "      <td>2414.399902</td>\n",
       "      <td>4078245</td>\n",
       "    </tr>\n",
       "    <tr>\n",
       "      <th>2023-02-21</th>\n",
       "      <td>2424.000000</td>\n",
       "      <td>2446.800049</td>\n",
       "      <td>2412.350098</td>\n",
       "      <td>2434.100098</td>\n",
       "      <td>2434.100098</td>\n",
       "      <td>6143298</td>\n",
       "    </tr>\n",
       "    <tr>\n",
       "      <th>2023-02-22</th>\n",
       "      <td>2425.949951</td>\n",
       "      <td>2430.000000</td>\n",
       "      <td>2375.050049</td>\n",
       "      <td>2378.899902</td>\n",
       "      <td>2378.899902</td>\n",
       "      <td>5087729</td>\n",
       "    </tr>\n",
       "    <tr>\n",
       "      <th>2023-02-23</th>\n",
       "      <td>2378.000000</td>\n",
       "      <td>2394.750000</td>\n",
       "      <td>2361.350098</td>\n",
       "      <td>2367.500000</td>\n",
       "      <td>2367.500000</td>\n",
       "      <td>4546655</td>\n",
       "    </tr>\n",
       "    <tr>\n",
       "      <th>2023-02-24</th>\n",
       "      <td>2372.000000</td>\n",
       "      <td>2396.149902</td>\n",
       "      <td>2368.000000</td>\n",
       "      <td>2383.699951</td>\n",
       "      <td>2383.699951</td>\n",
       "      <td>4353814</td>\n",
       "    </tr>\n",
       "  </tbody>\n",
       "</table>\n",
       "</div>"
      ],
      "text/plain": [
       "                   Open         High          Low        Close    Adj Close  \\\n",
       "Date                                                                          \n",
       "2023-02-13  2340.199951  2350.000000  2313.550049  2323.350098  2323.350098   \n",
       "2023-02-14  2329.949951  2381.899902  2323.649902  2378.100098  2378.100098   \n",
       "2023-02-15  2376.000000  2437.199951  2373.000000  2431.949951  2431.949951   \n",
       "2023-02-16  2449.449951  2463.800049  2425.050049  2430.050049  2430.050049   \n",
       "2023-02-17  2420.000000  2447.500000  2410.600098  2440.199951  2440.199951   \n",
       "2023-02-20  2445.000000  2449.750000  2410.100098  2414.399902  2414.399902   \n",
       "2023-02-21  2424.000000  2446.800049  2412.350098  2434.100098  2434.100098   \n",
       "2023-02-22  2425.949951  2430.000000  2375.050049  2378.899902  2378.899902   \n",
       "2023-02-23  2378.000000  2394.750000  2361.350098  2367.500000  2367.500000   \n",
       "2023-02-24  2372.000000  2396.149902  2368.000000  2383.699951  2383.699951   \n",
       "\n",
       "              Volume  \n",
       "Date                  \n",
       "2023-02-13   4777674  \n",
       "2023-02-14   6609564  \n",
       "2023-02-15  15461902  \n",
       "2023-02-16   7967558  \n",
       "2023-02-17   5450092  \n",
       "2023-02-20   4078245  \n",
       "2023-02-21   6143298  \n",
       "2023-02-22   5087729  \n",
       "2023-02-23   4546655  \n",
       "2023-02-24   4353814  "
      ]
     },
     "execution_count": 14,
     "metadata": {},
     "output_type": "execute_result"
    }
   ],
   "source": [
    "df.tail(10)"
   ]
  },
  {
   "cell_type": "code",
   "execution_count": 17,
   "metadata": {},
   "outputs": [
    {
     "name": "stdout",
     "output_type": "stream",
     "text": [
      "<class 'pandas.core.frame.DataFrame'>\n",
      "DatetimeIndex: 1769 entries, 2016-01-01 to 2023-02-24\n",
      "Data columns (total 6 columns):\n",
      " #   Column     Non-Null Count  Dtype  \n",
      "---  ------     --------------  -----  \n",
      " 0   Open       1769 non-null   float64\n",
      " 1   High       1769 non-null   float64\n",
      " 2   Low        1769 non-null   float64\n",
      " 3   Close      1769 non-null   float64\n",
      " 4   Adj Close  1769 non-null   float64\n",
      " 5   Volume     1769 non-null   int64  \n",
      "dtypes: float64(5), int64(1)\n",
      "memory usage: 96.7 KB\n"
     ]
    }
   ],
   "source": [
    "df.info()"
   ]
  },
  {
   "cell_type": "code",
   "execution_count": null,
   "metadata": {},
   "outputs": [],
   "source": []
  }
 ],
 "metadata": {
  "kernelspec": {
   "display_name": "Python 3",
   "language": "python",
   "name": "python3"
  },
  "language_info": {
   "codemirror_mode": {
    "name": "ipython",
    "version": 3
   },
   "file_extension": ".py",
   "mimetype": "text/x-python",
   "name": "python",
   "nbconvert_exporter": "python",
   "pygments_lexer": "ipython3",
   "version": "3.11.2"
  },
  "orig_nbformat": 4,
  "vscode": {
   "interpreter": {
    "hash": "5238573367df39f7286bb46f9ff5f08f63a01a80960060ce41e3c79b190280fa"
   }
  }
 },
 "nbformat": 4,
 "nbformat_minor": 2
}
